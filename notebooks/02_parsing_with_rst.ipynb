{
 "cells": [
  {
   "cell_type": "markdown",
   "id": "0",
   "metadata": {},
   "source": [
    "## Import the Segmented Corpus"
   ]
  },
  {
   "cell_type": "code",
   "execution_count": null,
   "id": "1",
   "metadata": {},
   "outputs": [],
   "source": [
    "# If these packages are not installed:\n",
    "\n",
    "# ! pip install git+https://github.com/iinemo/isanlp.git\n",
    "# ! pip install isanlp_rst\n",
    "# ! pip install hf_xet"
   ]
  },
  {
   "cell_type": "code",
   "execution_count": null,
   "id": "2",
   "metadata": {},
   "outputs": [],
   "source": [
    "# === Import\n",
    "import pandas as pd\n",
    "import re\n",
    "import sys\n",
    "import json\n",
    "from pathlib import Path\n",
    "\n",
    "import warnings\n",
    "warnings.filterwarnings(\"ignore\", message=\"`encoder_attention_mask` is deprecated\")\n",
    "\n",
    "# === Define the path to the auxiliary modules ===\n",
    "ROOT = Path.cwd().parent\n",
    "SRC = (ROOT / \"src\").resolve()\n",
    "\n",
    "if str(SRC) not in sys.path:\n",
    "    sys.path.insert(0, str(SRC))\n",
    "\n",
    "# === import the module for rst work === <--- this is not ready yet\n",
    "# from discourse.rst import init_parser # this is not ready yet"
   ]
  },
  {
   "cell_type": "code",
   "execution_count": null,
   "id": "3",
   "metadata": {},
   "outputs": [],
   "source": [
    "# === Define the path to the data and the pattern for retrieval ==\n",
    "HOME = Path.home()\n",
    "DATA_DIR = (HOME / \"My Drive\" / \"_VectorData\" / \"projects\" / \"identifying_depression_with_rst\" / \"data\").resolve(strict=True)\n",
    "\n",
    "corpus_path = DATA_DIR / \"processed\"\n",
    "corpus_file = corpus_path / \"segmented_corpora_320_token_split.json\"\n",
    "\n",
    "with open(corpus_file, \"r\") as file:\n",
    "    corpora = json.load(file)"
   ]
  },
  {
   "cell_type": "code",
   "execution_count": null,
   "id": "7d1c8983",
   "metadata": {},
   "outputs": [],
   "source": [
    "# === This is just in case for possible debugging (with verbose output) ===\n",
    "# import transformers\n",
    "# transformers.utils.logging.set_verbosity_info()\n",
    "# transformers.utils.logging.enable_explicit_format()"
   ]
  },
  {
   "cell_type": "markdown",
   "id": "4",
   "metadata": {},
   "source": [
    "## Visual Inspection"
   ]
  },
  {
   "cell_type": "code",
   "execution_count": null,
   "id": "5",
   "metadata": {},
   "outputs": [],
   "source": [
    "# === A note on the structure of the resulting segmented corpora: ===\n",
    "# Each separate corpus in the corpora is the value for the key indicating the name of this sepcific corpus (like 'ked' in this case)\n",
    "\n",
    "corpora.keys()"
   ]
  },
  {
   "cell_type": "code",
   "execution_count": null,
   "id": "6",
   "metadata": {},
   "outputs": [],
   "source": [
    "# === Further down, the tree the structure is as follows: ===\n",
    "# The value of the key is a list of 2 items\n",
    "# Where each item is also a list\n",
    "# The first list is the original text either as a single list item if it has not been split\n",
    "# Or as several itmes, which are the resulting chunks of the splitting pipeline upstream\n",
    "# The second list is made up of the sentences returned by the sentence tokenizer as list items\n",
    "\n",
    "# So, pulling the text (or the resulting chunks) for the \"ked\" coprus looks something like this:\n",
    "\n",
    "corpora[\"ked\"][0][0]"
   ]
  },
  {
   "cell_type": "code",
   "execution_count": null,
   "id": "8",
   "metadata": {},
   "outputs": [],
   "source": [
    "len(corpora[\"ked\"])"
   ]
  },
  {
   "cell_type": "markdown",
   "id": "9",
   "metadata": {},
   "source": [
    "## Prep Everything for Running the RST Parser"
   ]
  },
  {
   "cell_type": "code",
   "execution_count": null,
   "id": "10",
   "metadata": {},
   "outputs": [],
   "source": [
    "# Using the parser from the notebook directly for now (while the rst module is WIP)\n",
    "# This will later be handled by the rst.py module\n",
    "\n",
    "from isanlp_rst.parser import Parser\n",
    "\n",
    "model = 'tchewik/isanlp_rst_v3'\n",
    "version = 'gumrrg'  # Choose from {'gumrrg', 'rstdt', 'rstreebank'}\n",
    "\n",
    "parser = Parser(hf_model_name=model, hf_model_version=version)"
   ]
  },
  {
   "cell_type": "code",
   "execution_count": null,
   "id": "11",
   "metadata": {},
   "outputs": [],
   "source": [
    "# Put the target corpus as texts/chunks into a separate variable for easier navigation/iteration logic downstream\n",
    "\n",
    "corpus_name = \"ked\"\n",
    "\n",
    "corpus = [item[0] for item in corpora[corpus_name]] # grab only the texts/segments, not the texts as sentences"
   ]
  },
  {
   "cell_type": "code",
   "execution_count": null,
   "id": "0250e16f",
   "metadata": {},
   "outputs": [],
   "source": [
    "corpus[0]"
   ]
  },
  {
   "cell_type": "code",
   "execution_count": null,
   "id": "12",
   "metadata": {},
   "outputs": [],
   "source": [
    "# Check that the nuber of segmented texts matches what we got in the previous stage (segmentation)\n",
    "\n",
    "find_split_texts = [i for i in corpus if len(i) > 1]\n",
    "len(find_split_texts)"
   ]
  },
  {
   "cell_type": "code",
   "execution_count": null,
   "id": "9ff1896a",
   "metadata": {},
   "outputs": [],
   "source": [
    "# === This works on the specific corpus from the corpora: ===\n",
    "\n",
    "# The code expects the text either as one solid chunk or as two or more chunks\n",
    "# in case the text has been segmented in the previous phase (segmentation)\n",
    "\n",
    "\n",
    "def _as_segments(x):\n",
    "    # normalize each item in corpus to a list[str] for cases where the structure of the corpus may be like\n",
    "    # [\"text1\", [\"seg1_of_text2\", \"seg2_of_text2\"], \"text3\", ... ]\n",
    "    # this is just an extra precaution\n",
    "    \n",
    "    if isinstance(x, str):\n",
    "        return [x]\n",
    "    return [s.strip() for s in x if isinstance(s, str) and s.strip()]"
   ]
  },
  {
   "cell_type": "code",
   "execution_count": null,
   "id": "ac26efbf",
   "metadata": {},
   "outputs": [],
   "source": [
    "# === A helper to 'normalize' the texts just in case\n",
    "import re, unicodedata\n",
    "\n",
    "def normalize_for_parser(s: str) -> str:\n",
    "    s = s.replace(\"\\u00A0\", \" \")        # NBSP -> space\n",
    "    s = s.replace(\"\\u200b\", \"\")         # zero-width space\n",
    "    s = s.replace(\"\\ufeff\", \"\")         # BOM\n",
    "    s = re.sub(r\"\\r\\n?\", \"\\n\", s)       # CRLF/CR -> LF\n",
    "    s = unicodedata.normalize(\"NFC\", s) # canonical compose\n",
    "    return s.strip()"
   ]
  },
  {
   "cell_type": "markdown",
   "id": "fc034c13",
   "metadata": {},
   "source": [
    "## Parsing the Selected Corpus"
   ]
  },
  {
   "cell_type": "code",
   "execution_count": null,
   "id": "13",
   "metadata": {},
   "outputs": [],
   "source": [
    "parsed_corpus = []\n",
    "errors = []\n",
    "\n",
    "for di, doc in enumerate(corpus):\n",
    "    segments = _as_segments(doc)\n",
    "    parsed_segments = []\n",
    "    for si, seg in enumerate(segments):\n",
    "        try:\n",
    "            print(f\"processing doc:{di}, segment: {si}\", flush=True)\n",
    "            parsed_segments.append(parser(normalize_for_parser(seg)))\n",
    "        except Exception as e:\n",
    "            errors.append({\"doc_index\": di, \"seg_index\": si, \"error\": str(e)})\n",
    "            parsed_segments.append(None)  # keeping alignment helps\n",
    "    parsed_corpus.append(parsed_segments)\n"
   ]
  },
  {
   "cell_type": "code",
   "execution_count": null,
   "id": "14",
   "metadata": {},
   "outputs": [],
   "source": [
    "len(parsed_corpus)"
   ]
  },
  {
   "cell_type": "markdown",
   "id": "a45a2d80",
   "metadata": {},
   "source": [
    "## A Bit of Visual Inspection"
   ]
  },
  {
   "cell_type": "code",
   "execution_count": null,
   "id": "b572d7b8",
   "metadata": {},
   "outputs": [],
   "source": [
    "# === What does the parser return and how is it structured in our 'segmented' corpus?\n",
    "\n",
    "# First, each item is a list of at least one item -- a dictionary returned by the parser:\n",
    "parsed_corpus[0]"
   ]
  },
  {
   "cell_type": "code",
   "execution_count": null,
   "id": "c647e174",
   "metadata": {},
   "outputs": [],
   "source": [
    "# Further down the tree, each such dictionary has the key \"rst\", which stores the results of parsing as a list of one item (in our case)\n",
    "# This item is the RST object/tree proper\n",
    "# It can be explored using the 'vars' function:\n",
    "\n",
    "vars(parsed_corpus[0][0]['rst'][0])"
   ]
  },
  {
   "cell_type": "markdown",
   "id": "f29e3589",
   "metadata": {},
   "source": [
    "## Investigate Why A Segment is Reported to be over 512"
   ]
  },
  {
   "cell_type": "code",
   "execution_count": null,
   "id": "52185c60",
   "metadata": {},
   "outputs": [],
   "source": [
    "import logging, transformers\n",
    "transformers.utils.logging.set_verbosity_info()\n",
    "transformers.utils.logging.enable_explicit_format()\n",
    "\n",
    "parsed_corpus, offenders = [], []\n",
    "for di, doc in enumerate(corpus):\n",
    "    for si, seg in enumerate(_as_segments(doc)):\n",
    "        print(f\"processing doc:{di}, seg:{si}\", flush=True)\n",
    "        try:\n",
    "            _ = parser(seg)                 # just probe once\n",
    "            parsed_corpus.append(None)      # we're not keeping results here\n",
    "        except Exception as e:\n",
    "            offenders.append((di, si, str(e)))\n"
   ]
  },
  {
   "cell_type": "code",
   "execution_count": null,
   "id": "0470c24b",
   "metadata": {},
   "outputs": [],
   "source": [
    "from transformers import AutoTokenizer\n",
    "\n",
    "# model_name = \"DeepPavlov/rubert-base-cased\"\n",
    "# model_name = \"ai-forever/ruBert-base\"\n",
    "model_name = \"sberbank-ai/ruBert-large\"\n",
    "\n",
    "\n",
    "tok = AutoTokenizer.from_pretrained(model_name)\n",
    "for item in corpus:\n",
    "    for segment in item:\n",
    "        print(len(tok(normalize_for_parser(segment), add_special_tokens=True)[\"input_ids\"]))"
   ]
  },
  {
   "cell_type": "code",
   "execution_count": null,
   "id": "3ad1a41b",
   "metadata": {},
   "outputs": [],
   "source": [
    "res_temp = parser(normalize_for_parser(corpus[106][2]))"
   ]
  },
  {
   "cell_type": "code",
   "execution_count": null,
   "id": "6a6c304c",
   "metadata": {},
   "outputs": [],
   "source": [
    "import re, unicodedata\n",
    "from transformers import AutoTokenizer\n",
    "\n",
    "# 1) close-enough tokenizer to what the RST parser likely uses\n",
    "xlmr = AutoTokenizer.from_pretrained(\"xlm-roberta-base\")\n",
    "\n",
    "def single_len(text: str) -> int:\n",
    "    return len(xlmr(text, add_special_tokens=True)[\"input_ids\"])\n",
    "\n",
    "def pair_len(a: str, b: str) -> int:\n",
    "    # this mimics how RoBERTa encodes pairs: <s>a</s></s>b</s>\n",
    "    return len(xlmr(a, b, add_special_tokens=True)[\"input_ids\"])\n",
    "\n",
    "def max_pair_len(text: str) -> int:\n",
    "    # super-naive sentence split is fine for triage; plug in your splitter if you want\n",
    "    sents = [t for t in re.split(r'(?<=[.!?])\\s+', text) if t.strip()]\n",
    "    m = 0\n",
    "    for i in range(len(sents)-1):\n",
    "        m = max(m, pair_len(sents[i], sents[i+1]))\n",
    "        if m >= 512:  # early exit\n",
    "            break\n",
    "    return m\n",
    "\n",
    "offenders = []\n",
    "for di, doc in enumerate(corpus):\n",
    "    for si, raw in enumerate(_as_segments(doc)):\n",
    "        seg = normalize_for_parser(raw)\n",
    "        s_len = single_len(seg)\n",
    "        p_len = max_pair_len(seg)\n",
    "        if s_len >= 512 or p_len >= 512 or p_len >= 508:   # 508≈practical tripwire\n",
    "            offenders.append((di, si, s_len, p_len))\n",
    "\n",
    "print(f\"Found {len(offenders)} risky segments (doc_idx, seg_idx, single_len, max_pair_len):\")\n",
    "for row in offenders[:20]:\n",
    "    print(row)"
   ]
  },
  {
   "cell_type": "markdown",
   "id": "15",
   "metadata": {},
   "source": [
    "## NEXT:\n",
    "* Walk the RST Trees and Extract the Data (this part is WIP)"
   ]
  }
 ],
 "metadata": {
  "kernelspec": {
   "display_name": "nlpenv",
   "language": "python",
   "name": "python3"
  },
  "language_info": {
   "codemirror_mode": {
    "name": "ipython",
    "version": 3
   },
   "file_extension": ".py",
   "mimetype": "text/x-python",
   "name": "python",
   "nbconvert_exporter": "python",
   "pygments_lexer": "ipython3",
   "version": "3.10.18"
  }
 },
 "nbformat": 4,
 "nbformat_minor": 5
}
