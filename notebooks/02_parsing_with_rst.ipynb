{
 "cells": [
  {
   "cell_type": "markdown",
   "id": "0",
   "metadata": {},
   "source": [
    "## Import the Segmented Corpus"
   ]
  },
  {
   "cell_type": "code",
   "execution_count": null,
   "id": "1",
   "metadata": {},
   "outputs": [],
   "source": [
    "# If these packages are not installed:\n",
    "\n",
    "# ! pip install git+https://github.com/iinemo/isanlp.git\n",
    "# ! pip install isanlp_rst\n",
    "# ! pip install hf_xet"
   ]
  },
  {
   "cell_type": "code",
   "execution_count": null,
   "id": "2",
   "metadata": {},
   "outputs": [],
   "source": [
    "# === Import\n",
    "import pandas as pd\n",
    "import re\n",
    "import sys\n",
    "import json\n",
    "from pathlib import Path\n",
    "\n",
    "import warnings\n",
    "warnings.filterwarnings(\"ignore\", message=\"`encoder_attention_mask` is deprecated\")\n",
    "\n",
    "# === Define the path to the auxiliary modules ===\n",
    "ROOT = Path.cwd().parent\n",
    "SRC = (ROOT / \"src\").resolve()\n",
    "\n",
    "if str(SRC) not in sys.path:\n",
    "    sys.path.insert(0, str(SRC))\n",
    "\n",
    "# === import the module for rst work === <--- this is not ready yet\n",
    "# from discourse.rst import init_parser # this is not ready yet"
   ]
  },
  {
   "cell_type": "code",
   "execution_count": null,
   "id": "3",
   "metadata": {},
   "outputs": [],
   "source": [
    "# === Define the path to the data and the pattern for retrieval ==\n",
    "HOME = Path.home()\n",
    "DATA_DIR = (HOME / \"My Drive\" / \"_VectorData\" / \"projects\" / \"identifying_depression_with_rst\" / \"data\").resolve(strict=True)\n",
    "\n",
    "corpus_path = DATA_DIR / \"processed\"\n",
    "corpus_file = corpus_path / \"segmented_corpora.json\"\n",
    "\n",
    "with open(corpus_file, \"r\") as file:\n",
    "    corpora = json.load(file)"
   ]
  },
  {
   "cell_type": "markdown",
   "id": "4",
   "metadata": {},
   "source": [
    "## Visual Inspection"
   ]
  },
  {
   "cell_type": "code",
   "execution_count": null,
   "id": "5",
   "metadata": {},
   "outputs": [],
   "source": [
    "# === A note on the structure of the resulting segmented corpora: ===\n",
    "# Each separate corpus in the corpora is the value for the key indicating the name of this sepcific corpus (like 'ked' in this case)\n",
    "\n",
    "corpora.keys()"
   ]
  },
  {
   "cell_type": "code",
   "execution_count": null,
   "id": "6",
   "metadata": {},
   "outputs": [],
   "source": [
    "# === Further down, the tree the structure is as follows: ===\n",
    "# The value of the key is a list of 2 items\n",
    "# Where each item is also a list\n",
    "# The first list is the original text either as a single list item if it has not been split\n",
    "# Or as several itmes, which are the resulting chunks of the splitting pipeline upstream\n",
    "# The second list is made up of the sentences returned by the sentence tokenizer as list items\n",
    "\n",
    "# So, pulling the text (or the resulting chunks) for the \"ked\" coprus looks something like this:\n",
    "\n",
    "corpora[\"ked\"][38][0]"
   ]
  },
  {
   "cell_type": "code",
   "execution_count": null,
   "id": "7",
   "metadata": {},
   "outputs": [],
   "source": [
    "corpora[\"ked\"][37][0][0]"
   ]
  },
  {
   "cell_type": "code",
   "execution_count": null,
   "id": "8",
   "metadata": {},
   "outputs": [],
   "source": [
    "len(corpora[\"ked\"])"
   ]
  },
  {
   "cell_type": "markdown",
   "id": "9",
   "metadata": {},
   "source": [
    "## Run the RST Parser"
   ]
  },
  {
   "cell_type": "code",
   "execution_count": null,
   "id": "10",
   "metadata": {},
   "outputs": [],
   "source": [
    "# Using the parser from the notebook directly for now (while the rst module is WIP)\n",
    "# This will later be handled by the rst.py module\n",
    "\n",
    "from isanlp_rst.parser import Parser\n",
    "\n",
    "model = 'tchewik/isanlp_rst_v3'\n",
    "version = 'gumrrg'  # Choose from {'gumrrg', 'rstdt', 'rstreebank'}\n",
    "\n",
    "parser = Parser(hf_model_name=model, hf_model_version=version)"
   ]
  },
  {
   "cell_type": "code",
   "execution_count": null,
   "id": "11",
   "metadata": {},
   "outputs": [],
   "source": [
    "# Put the target corpus as texts/chunks into a separate variable for easier navigation/iteration logic downstream\n",
    "\n",
    "corpus_name = \"ked\"\n",
    "corpus = [item[0] for item in corpora[corpus_name]] # grab only the texts/segments, not the texts as sentences"
   ]
  },
  {
   "cell_type": "code",
   "execution_count": null,
   "id": "12",
   "metadata": {},
   "outputs": [],
   "source": [
    "# === This works on the specific corpus from the corpora: ===\n",
    "\n",
    "# The code expects the text either as one solid chunk or as two or more chunks\n",
    "# in case the text has been segmented in the previous phase (segmentation)\n",
    "\n",
    "\n",
    "def _as_segments(x):\n",
    "    # normalize each item in corpus to a list[str] for cases where the structure of the corpus may be like\n",
    "    # [\"text1\", [\"seg1_of_text2\", \"seg2_of_text2\"], \"text3\", ... ]\n",
    "    # this is just an extra precaution\n",
    "    \n",
    "    if isinstance(x, str):\n",
    "        return [x]\n",
    "    return [s.strip() for s in x if isinstance(s, str) and s.strip()]\n",
    "\n",
    "parsed_corpus = []\n",
    "errors = []\n",
    "\n",
    "for di, doc in enumerate(corpus):\n",
    "    segments = _as_segments(doc)\n",
    "    parsed_segments = []\n",
    "    for si, seg in enumerate(segments):\n",
    "        try:\n",
    "            parsed_segments.append(parser(seg))\n",
    "        except Exception as e:\n",
    "            errors.append({\"doc_index\": di, \"seg_index\": si, \"error\": str(e)})\n",
    "            parsed_segments.append(None)  # or skip; but keeping alignment helps\n",
    "    parsed_corpus.append(parsed_segments)\n"
   ]
  },
  {
   "cell_type": "code",
   "execution_count": null,
   "id": "13",
   "metadata": {},
   "outputs": [],
   "source": [
    "len(parsed_corpus)"
   ]
  },
  {
   "cell_type": "markdown",
   "id": "14",
   "metadata": {},
   "source": [
    "## NEXT:\n",
    "* Walk the RST Trees and Extract the Data (this part is WIP)"
   ]
  }
 ],
 "metadata": {
  "kernelspec": {
   "display_name": "nlpenv",
   "language": "python",
   "name": "python3"
  },
  "language_info": {
   "codemirror_mode": {
    "name": "ipython",
    "version": 3
   },
   "file_extension": ".py",
   "mimetype": "text/x-python",
   "name": "python",
   "nbconvert_exporter": "python",
   "pygments_lexer": "ipython3",
   "version": "3.10.18"
  }
 },
 "nbformat": 4,
 "nbformat_minor": 5
}
